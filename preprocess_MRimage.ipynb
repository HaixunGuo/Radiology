{
 "cells": [
  {
   "cell_type": "code",
   "execution_count": null,
   "metadata": {
    "collapsed": true
   },
   "outputs": [],
   "source": [
    "from glob import glob\n",
    "%matplotlib inline\n",
    "import matplotlib.pyplot as plt"
   ]
  },
  {
   "cell_type": "code",
   "execution_count": null,
   "metadata": {
    "collapsed": true
   },
   "outputs": [],
   "source": [
    "import cv2\n",
    "import numpy as np\n",
    "import dicom as pdicom\n",
    "import os\n",
    "import subprocess as sp"
   ]
  },
  {
   "cell_type": "code",
   "execution_count": null,
   "metadata": {
    "collapsed": true
   },
   "outputs": [],
   "source": [
    "dicomfiles = glob(\"/home/seonwhee/Deep_Learning/Datasets/IRCR/MRIs/00212110/initial/*/*dcm\")"
   ]
  },
  {
   "cell_type": "markdown",
   "metadata": {},
   "source": [
    "## View dicom images"
   ]
  },
  {
   "cell_type": "code",
   "execution_count": null,
   "metadata": {
    "collapsed": true
   },
   "outputs": [],
   "source": [
    "def View_dicom(dicomList):\n",
    "    for a_dicom in dicomList:\n",
    "        an_array = pdicom.read_file(a_dicom)\n",
    "        ConstPixelDims = (int(an_array.Rows), int(an_array.Columns), len(dicomfiles))\n",
    "        ConstPixelSpacing = (float(an_array.PixelSpacing[0]), float(an_array.PixelSpacing[1]), float(an_array.SliceThickness))\n",
    "        x = np.arange(0.0, (ConstPixelDims[0]+1)*ConstPixelSpacing[0], ConstPixelSpacing[0])\n",
    "        y = np.arange(0.0, (ConstPixelDims[1]+1)*ConstPixelSpacing[1], ConstPixelSpacing[1])\n",
    "        z = np.arange(0.0, (ConstPixelDims[2]+1)*ConstPixelSpacing[2], ConstPixelSpacing[2])\n",
    "        ArrayDicom = np.zeros(ConstPixelDims, dtype=an_array.pixel_array.dtype)        \n",
    "        ArrayDicom[:, :, dicomfiles.index(a_file)] = an_array.pixel_array\n",
    "        plt.figure()\n",
    "        plt.axes().set_aspect('equal', 'datalim')\n",
    "        plt.set_cmap(plt.gray())\n",
    "        plt.pcolormesh(x,y,np.flipud(ArrayDicom[:,:,80]))"
   ]
  },
  {
   "cell_type": "markdown",
   "metadata": {},
   "source": [
    "## Intensity Non-uniformity Correction"
   ]
  },
  {
   "cell_type": "code",
   "execution_count": null,
   "metadata": {
    "collapsed": true
   },
   "outputs": [],
   "source": [
    "def applying_N3(inputList):\n",
    "    output_dir = \"/home/seonwhee/Radiology/N3_output/\"\n",
    "    command = \"/home/seonwhee/Radiology/itkN3 %s %s\" %(inputList, output_dir)\n",
    "    sp.call(cmd)"
   ]
  },
  {
   "cell_type": "markdown",
   "metadata": {},
   "source": [
    "## Image Registration"
   ]
  },
  {
   "cell_type": "code",
   "execution_count": null,
   "metadata": {
    "collapsed": true
   },
   "outputs": [],
   "source": []
  }
 ],
 "metadata": {
  "anaconda-cloud": {},
  "kernelspec": {
   "display_name": "Python [conda root]",
   "language": "python",
   "name": "conda-root-py"
  },
  "language_info": {
   "codemirror_mode": {
    "name": "ipython",
    "version": 3
   },
   "file_extension": ".py",
   "mimetype": "text/x-python",
   "name": "python",
   "nbconvert_exporter": "python",
   "pygments_lexer": "ipython3",
   "version": "3.5.4"
  }
 },
 "nbformat": 4,
 "nbformat_minor": 2
}
