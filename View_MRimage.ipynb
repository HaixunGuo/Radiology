{
 "cells": [
  {
   "cell_type": "code",
   "execution_count": 1,
   "metadata": {},
   "outputs": [],
   "source": [
    "from glob import glob\n",
    "import numpy as np\n",
    "import matplotlib.pyplot as plt\n",
    "%matplotlib inline"
   ]
  },
  {
   "cell_type": "code",
   "execution_count": 2,
   "metadata": {},
   "outputs": [],
   "source": [
    "import sys\n",
    "sys.path.append(\"./SimpleITK/\")"
   ]
  },
  {
   "cell_type": "code",
   "execution_count": 3,
   "metadata": {},
   "outputs": [],
   "source": [
    "import SimpleITK as sitk\n",
    "import skimage.io as io\n",
    "from image_detector import read_image_into_ndArray, figure_images"
   ]
  },
  {
   "cell_type": "markdown",
   "metadata": {},
   "source": [
    "## 2D images (jpg, png, etc)"
   ]
  },
  {
   "cell_type": "code",
   "execution_count": null,
   "metadata": {
    "collapsed": true
   },
   "outputs": [],
   "source": [
    "imgfile = \"/home/seonwhee/Deep_Learning/Solaris/week9/FCN-BRATS/Data_zoo/BRATS/images/training/VSD.Brain.XX.O.MR_T1c.54514_1.jpg\"\n",
    "img2 = read_image_into_ndArray(imgfile, PlugIn='matplotlib')"
   ]
  },
  {
   "cell_type": "markdown",
   "metadata": {},
   "source": [
    "## ITK metaImage"
   ]
  },
  {
   "cell_type": "code",
   "execution_count": null,
   "metadata": {
    "collapsed": true
   },
   "outputs": [],
   "source": [
    "mhafile = \"/home/seonwhee/Deep_Learning/Datasets/BRATS2015_Training/HGG/brats_2013_pat0001_1/VSD.Brain.XX.O.MR_Flair.54512/VSD.Brain.XX.O.MR_Flair.54512.mha\"\n",
    "img = read_image_into_ndArray(mhafile, PlugIn='simpleitk')"
   ]
  },
  {
   "cell_type": "code",
   "execution_count": null,
   "metadata": {
    "collapsed": true
   },
   "outputs": [],
   "source": [
    "mhafile2 = \"/home/seonwhee/Deep_Learning/Datasets/BRATS2015_Training/HGG/brats_tcia_pat105_0001/VSD.Brain.XX.O.MR_T1.35536/VSD.Brain.XX.O.MR_T1.35536.mha\"\n",
    "img2 = read_image_into_ndArray(mhafile2, PlugIn='simpleitk')"
   ]
  },
  {
   "cell_type": "markdown",
   "metadata": {},
   "source": [
    "#### Multiple files"
   ]
  },
  {
   "cell_type": "code",
   "execution_count": null,
   "metadata": {
    "collapsed": true
   },
   "outputs": [],
   "source": [
    "mhafiles = glob('/home/seonwhee/Deep_Learning/Datasets/BRATS-2/Image_Data/HG/*/*/*mha')"
   ]
  },
  {
   "cell_type": "code",
   "execution_count": null,
   "metadata": {
    "collapsed": true
   },
   "outputs": [],
   "source": [
    "imgList = []\n",
    "for a_file in mhafiles:\n",
    "    filename = a_file.split(\"/\")[-1]\n",
    "    imgInput = sitk.ReadImage(a_file)\n",
    "    nda = sitk.GetArrayViewFromImage(imgInput) # Get a view of the image data as a numpy array, useful for display\n",
    "    img = sitk.GetImageFromArray(nda)\n",
    "    imgList.append((filename, img))\n",
    "    "
   ]
  },
  {
   "cell_type": "code",
   "execution_count": null,
   "metadata": {
    "collapsed": true
   },
   "outputs": [],
   "source": [
    "figure_images(imgList, 80)"
   ]
  },
  {
   "cell_type": "markdown",
   "metadata": {},
   "source": [
    "### T1 and T2-weighted image"
   ]
  },
  {
   "cell_type": "code",
   "execution_count": 4,
   "metadata": {},
   "outputs": [],
   "source": [
    "from ipywidgets import interact, FloatSlider\n",
    "from myshow import myshow, myshow3d"
   ]
  },
  {
   "cell_type": "code",
   "execution_count": 5,
   "metadata": {},
   "outputs": [
    {
     "data": {
      "application/vnd.jupyter.widget-view+json": {
       "model_id": "4356e731eed54da4b38d313e3fe3ba94",
       "version_major": 2,
       "version_minor": 0
      },
      "text/plain": [
       "A Jupyter Widget"
      ]
     },
     "metadata": {},
     "output_type": "display_data"
    },
    {
     "data": {
      "application/vnd.jupyter.widget-view+json": {
       "model_id": "617575462bf642788473f98add5a7aaa",
       "version_major": 2,
       "version_minor": 0
      },
      "text/plain": [
       "A Jupyter Widget"
      ]
     },
     "metadata": {},
     "output_type": "display_data"
    }
   ],
   "source": [
    "img_T1 = sitk.ReadImage(\"/home/seonwhee/Deep_Learning/Datasets/BRATS2015_Training/HGG/brats_2013_pat0010_1/VSD.Brain.XX.O.MR_T1.54567/VSD.Brain.XX.O.MR_T1.54567.mha\")\n",
    "img_T2 = sitk.ReadImage(\"/home/seonwhee/Deep_Learning/Datasets/BRATS2015_Training/HGG/brats_2013_pat0010_1/VSD.Brain.XX.O.MR_T2.54569/VSD.Brain.XX.O.MR_T2.54569.mha\")\n",
    "img_FLAIR = sitk.ReadImage(\"/home/seonwhee/Deep_Learning/Datasets/BRATS2015_Training/HGG/brats_2013_pat0010_1/VSD.Brain.XX.O.MR_Flair.54566/VSD.Brain.XX.O.MR_Flair.54566.mha\")\n",
    "img_T1c = sitk.ReadImage(\"/home/seonwhee/Deep_Learning/Datasets/BRATS2015_Training/HGG/brats_2013_pat0010_1/VSD.Brain.XX.O.MR_T1c.54568/VSD.Brain.XX.O.MR_T1c.54568.mha\")\n",
    "# To visualize the labels image in RGB with needs a image with 0-255 range\n",
    "img_T1_255 = sitk.Cast(sitk.RescaleIntensity(img_T1), sitk.sitkUInt8)\n",
    "img_T2_255 = sitk.Cast(sitk.RescaleIntensity(img_T2), sitk.sitkUInt8)\n",
    "img_FLAIR_255 = sitk.Cast(sitk.RescaleIntensity(img_FLAIR), sitk.sitkUInt8)\n",
    "img_T1c_255 = sitk.Cast(sitk.RescaleIntensity(img_T1c), sitk.sitkUInt8)\n",
    "myshow3d(img_T1)\n",
    "myshow3d(img_T1_255)"
   ]
  },
  {
   "cell_type": "code",
   "execution_count": 6,
   "metadata": {},
   "outputs": [
    {
     "data": {
      "application/vnd.jupyter.widget-view+json": {
       "model_id": "dedfcba0875f4717ba2f8813f440a15f",
       "version_major": 2,
       "version_minor": 0
      },
      "text/plain": [
       "A Jupyter Widget"
      ]
     },
     "metadata": {},
     "output_type": "display_data"
    }
   ],
   "source": [
    "img_T1 = sitk.ReadImage(\"/home/seonwhee/Deep_Learning/Datasets/BRATS2015_Training/HGG/brats_2013_pat0010_1/VSD.Brain.XX.O.MR_T1.54567/VSD.Brain.XX.O.MR_T1.54567.mha\")\n",
    "img_T2 = sitk.ReadImage(\"/home/seonwhee/Deep_Learning/Datasets/BRATS2015_Training/HGG/brats_2013_pat0010_1/VSD.Brain.XX.O.MR_T2.54569/VSD.Brain.XX.O.MR_T2.54569.mha\")\n",
    "img_FLAIR = sitk.ReadImage(\"/home/seonwhee/Deep_Learning/Datasets/BRATS2015_Training/HGG/brats_2013_pat0010_1/VSD.Brain.XX.O.MR_Flair.54566/VSD.Brain.XX.O.MR_Flair.54566.mha\")\n",
    "img_T1c = sitk.ReadImage(\"/home/seonwhee/Deep_Learning/Datasets/BRATS2015_Training/HGG/brats_2013_pat0010_1/VSD.Brain.XX.O.MR_T1c.54568/VSD.Brain.XX.O.MR_T1c.54568.mha\")\n",
    "\n",
    "    # 모델을 생성한다.\n",
    "img_T1_Slice = img_T1[:,:,77]\n",
    "img_T1c_Slice = img_T1c[:,:,77]\n",
    "img_T2_Slice = img_T2[:,:,77]\n",
    "img_FLAIR_Slice = img_FLAIR[:,:,77]\n",
    "#imgVolume = sitk.JoinSeries(img_T1_Slice, img_T1c_Slice, img_T2_Slice, img_FLAIR_Slice)\n",
    "imgVolume = sitk.JoinSeries([img_T1_Slice, img_T1c_Slice, img_T2_Slice, img_FLAIR_Slice])\n",
    "width = imgVolume.GetWidth()\n",
    "height = imgVolume.GetHeight()\n",
    "depth = imgVolume.GetDepth()\n",
    "myshow3d(imgVolume, title=['T1', 'T1c', 'T2', 'FLAIR'])"
   ]
  },
  {
   "cell_type": "code",
   "execution_count": 9,
   "metadata": {},
   "outputs": [
    {
     "data": {
      "application/vnd.jupyter.widget-view+json": {
       "model_id": "ff9abe0fc4bf4997b971ed9040866e26",
       "version_major": 2,
       "version_minor": 0
      },
      "text/plain": [
       "A Jupyter Widget"
      ]
     },
     "metadata": {},
     "output_type": "display_data"
    }
   ],
   "source": [
    "Batch_dir = \"/home/seonwhee/Deep_Learning/Datasets/BRATS2015_Training/HGG/brats_2013_pat0010_1\"\n",
    "File_type = \"mha\"\n",
    "Modality = ['T1.', 'T1c.', 'T2.', 'Flair.']\n",
    "img_dir = []\n",
    "for modal in Modality:\n",
    "    img_dir = img_dir + glob(\"%s/*%s*/*%s\" %(Batch_dir, modal, File_type))\n",
    "Slice_num = 77\n",
    "imgList = []\n",
    "imgSliceList = []\n",
    "for imgFile in img_dir:\n",
    "    img = sitk.ReadImage(imgFile)\n",
    "    imgList.append(img)\n",
    "    imgSliceList.append(img[:,:,Slice_num])\n",
    "imgVolume = sitk.JoinSeries(imgSliceList)\n",
    "myshow3d(imgVolume, title=Modality)"
   ]
  },
  {
   "cell_type": "markdown",
   "metadata": {},
   "source": [
    "## Synchronized Multi-modal images"
   ]
  },
  {
   "cell_type": "code",
   "execution_count": 95,
   "metadata": {},
   "outputs": [],
   "source": [
    "img_T1 = sitk.ReadImage(\"/home/seonwhee/Deep_Learning/Datasets/BRATS2015_Training/HGG/brats_2013_pat0010_1/VSD.Brain.XX.O.MR_T1.54567/VSD.Brain.XX.O.MR_T1.54567.mha\")\n",
    "img_T2 = sitk.ReadImage(\"/home/seonwhee/Deep_Learning/Datasets/BRATS2015_Training/HGG/brats_2013_pat0010_1/VSD.Brain.XX.O.MR_T2.54569/VSD.Brain.XX.O.MR_T2.54569.mha\")\n",
    "img_FLAIR = sitk.ReadImage(\"/home/seonwhee/Deep_Learning/Datasets/BRATS2015_Training/HGG/brats_2013_pat0010_1/VSD.Brain.XX.O.MR_Flair.54566/VSD.Brain.XX.O.MR_Flair.54566.mha\")\n",
    "img_T1c = sitk.ReadImage(\"/home/seonwhee/Deep_Learning/Datasets/BRATS2015_Training/HGG/brats_2013_pat0010_1/VSD.Brain.XX.O.MR_T1c.54568/VSD.Brain.XX.O.MR_T1c.54568.mha\")\n",
    "img_GT = sitk.ReadImage(\"/home/seonwhee/Deep_Learning/Datasets/BRATS2015_Training/HGG/brats_2013_pat0010_1/VSD.Brain_3more.XX.O.OT.54571/VSD.Brain_3more.XX.O.OT.54571.mha\")"
   ]
  },
  {
   "cell_type": "code",
   "execution_count": 96,
   "metadata": {},
   "outputs": [
    {
     "name": "stdout",
     "output_type": "stream",
     "text": [
      "(12.6, 12.6)\n",
      "(155, 240, 240)\n"
     ]
    }
   ],
   "source": [
    "nda1 = sitk.GetArrayViewFromImage(img_T1)\n",
    "nda2 = sitk.GetArrayViewFromImage(img_T2)\n",
    "nda3 = sitk.GetArrayViewFromImage(img_T1c)\n",
    "nda4 = sitk.GetArrayViewFromImage(img_FLAIR)\n",
    "nda5 = sitk.GetArrayViewFromImage(img_GT)\n",
    "spacing = img_T1.GetSpacing()\n",
    "slicer = False\n",
    "title = []\n",
    "ysize= nda1.shape[1]\n",
    "xsize= nda1.shape[2]\n",
    "margin=0.05\n",
    "dpi=80\n",
    "figsize = 4*(1 + margin) * ysize / dpi, 4*(1 + margin) *xsize / dpi\n",
    "print(figsize)\n",
    "print(nda1.shape)"
   ]
  },
  {
   "cell_type": "code",
   "execution_count": 101,
   "metadata": {},
   "outputs": [],
   "source": [
    "def callback(z=None):        \n",
    "\n",
    "    extent = (0, xsize*spacing[1], ysize*spacing[0], 0)\n",
    "    fig = plt.figure(figsize=figsize, dpi=dpi)      \n",
    "    plt.subplot(151)\n",
    "    plt.title(\"T1\")\n",
    "    plt.set_cmap(\"gray\")\n",
    "    plt.imshow(nda1[z,...],extent=extent,interpolation=None)    \n",
    "    plt.subplot(152)\n",
    "    plt.title(\"T2\")\n",
    "    plt.set_cmap(\"gray\")\n",
    "    plt.imshow(nda2[z,...],extent=extent,interpolation=None)\n",
    "    plt.subplot(153)\n",
    "    plt.title(\"T1c\")\n",
    "    plt.set_cmap(\"gray\")\n",
    "    plt.imshow(nda3[z,...],extent=extent,interpolation=None)\n",
    "    plt.subplot(154)\n",
    "    plt.title(\"FLAIR\")\n",
    "    plt.set_cmap(\"gray\")\n",
    "    plt.imshow(nda4[z,...],extent=extent,interpolation=None)\n",
    "    plt.subplot(155)\n",
    "    plt.title(\"Ground Truth\")\n",
    "    plt.set_cmap(\"gray\")\n",
    "    plt.imshow(nda5[z,...],extent=extent,interpolation=None)\n",
    "    \n",
    "       \n",
    "    plt.show()"
   ]
  },
  {
   "cell_type": "code",
   "execution_count": 102,
   "metadata": {},
   "outputs": [
    {
     "data": {
      "application/vnd.jupyter.widget-view+json": {
       "model_id": "fd8291f897914c118d13a100b7248a78",
       "version_major": 2,
       "version_minor": 0
      },
      "text/html": [
       "<p>Failed to display Jupyter Widget of type <code>interactive</code>.</p>\n",
       "<p>\n",
       "  If you're reading this message in the Jupyter Notebook or JupyterLab Notebook, it may mean\n",
       "  that the widgets JavaScript is still loading. If this message persists, it\n",
       "  likely means that the widgets JavaScript library is either not installed or\n",
       "  not enabled. See the <a href=\"https://ipywidgets.readthedocs.io/en/stable/user_install.html\">Jupyter\n",
       "  Widgets Documentation</a> for setup instructions.\n",
       "</p>\n",
       "<p>\n",
       "  If you're reading this message in another frontend (for example, a static\n",
       "  rendering on GitHub or <a href=\"https://nbviewer.jupyter.org/\">NBViewer</a>),\n",
       "  it may mean that your frontend doesn't currently support widgets.\n",
       "</p>\n"
      ],
      "text/plain": [
       "interactive(children=(IntSlider(value=77, description='z', max=154), Output()), _dom_classes=('widget-interact',))"
      ]
     },
     "metadata": {},
     "output_type": "display_data"
    },
    {
     "data": {
      "text/plain": [
       "<function __main__.callback>"
      ]
     },
     "execution_count": 102,
     "metadata": {},
     "output_type": "execute_result"
    }
   ],
   "source": [
    "interact(callback, z=(0,nda1.shape[0]-1))"
   ]
  }
 ],
 "metadata": {
  "anaconda-cloud": {},
  "kernelspec": {
   "display_name": "Python [conda root]",
   "language": "python",
   "name": "conda-root-py"
  },
  "language_info": {
   "codemirror_mode": {
    "name": "ipython",
    "version": 3
   },
   "file_extension": ".py",
   "mimetype": "text/x-python",
   "name": "python",
   "nbconvert_exporter": "python",
   "pygments_lexer": "ipython3",
   "version": "3.5.4"
  }
 },
 "nbformat": 4,
 "nbformat_minor": 2
}
