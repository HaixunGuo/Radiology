{
 "cells": [
  {
   "cell_type": "code",
   "execution_count": 18,
   "metadata": {
    "collapsed": true
   },
   "outputs": [],
   "source": [
    "from glob import glob\n",
    "import numpy as np\n",
    "import matplotlib.pyplot as plt\n",
    "%matplotlib inline"
   ]
  },
  {
   "cell_type": "code",
   "execution_count": 2,
   "metadata": {
    "collapsed": true
   },
   "outputs": [],
   "source": [
    "import SimpleITK as sitk\n",
    "import skimage.io as io"
   ]
  },
  {
   "cell_type": "code",
   "execution_count": 8,
   "metadata": {
    "collapsed": true
   },
   "outputs": [],
   "source": [
    "def read_image_into_ndArray(imagefile, PlugIn):\n",
    "    imageArray = io.imread(imagefile, plugin=PlugIn)\n",
    "    print(\"The dimension of the image is \", imageArray.shape)\n",
    "    return imageArray"
   ]
  },
  {
   "cell_type": "markdown",
   "metadata": {},
   "source": [
    "## 2D images (jpg, png, etc)"
   ]
  },
  {
   "cell_type": "code",
   "execution_count": 9,
   "metadata": {},
   "outputs": [
    {
     "name": "stdout",
     "output_type": "stream",
     "text": [
      "The dimension of the image is  (240, 240, 3)\n"
     ]
    }
   ],
   "source": [
    "imgfile = \"/home/seonwhee/Deep_Learning/Solaris/week9/FCN-BRATS/Data_zoo/BRATS/images/training/VSD.Brain.XX.O.MR_T1c.54514_1.jpg\"\n",
    "img2 = read_image_into_ndArray(imgfile, PlugIn='matplotlib')"
   ]
  },
  {
   "cell_type": "markdown",
   "metadata": {},
   "source": [
    "## ITK metaImage"
   ]
  },
  {
   "cell_type": "code",
   "execution_count": 10,
   "metadata": {},
   "outputs": [
    {
     "name": "stdout",
     "output_type": "stream",
     "text": [
      "The dimension of the image is  (155, 240, 240)\n"
     ]
    }
   ],
   "source": [
    "mhafile = \"/home/seonwhee/Deep_Learning/Datasets/BRATS2015_Training/HGG/brats_2013_pat0001_1/VSD.Brain.XX.O.MR_Flair.54512/VSD.Brain.XX.O.MR_Flair.54512.mha\"\n",
    "img = read_image_into_ndArray(mhafile, PlugIn='simpleitk')"
   ]
  },
  {
   "cell_type": "code",
   "execution_count": 24,
   "metadata": {},
   "outputs": [
    {
     "name": "stdout",
     "output_type": "stream",
     "text": [
      "The dimension of the image is  (155, 240, 240)\n"
     ]
    }
   ],
   "source": [
    "mhafile2 = \"/home/seonwhee/Deep_Learning/Datasets/BRATS2015_Training/HGG/brats_tcia_pat105_0001/VSD.Brain.XX.O.MR_T1.35536/VSD.Brain.XX.O.MR_T1.35536.mha\"\n",
    "img2 = read_image_into_ndArray(mhafile2, PlugIn='simpleitk')"
   ]
  },
  {
   "cell_type": "markdown",
   "metadata": {},
   "source": [
    "#### Multiple files"
   ]
  },
  {
   "cell_type": "code",
   "execution_count": null,
   "metadata": {
    "collapsed": true
   },
   "outputs": [],
   "source": [
    "mhafiles = glob('/home/seonwhee/Deep_Learning/Datasets/BRATS-2/Image_Data/HG/*/*/*mha')"
   ]
  },
  {
   "cell_type": "code",
   "execution_count": null,
   "metadata": {
    "collapsed": true
   },
   "outputs": [],
   "source": [
    "imgList = []\n",
    "for a_file in mhafiles:\n",
    "    filename = a_file.split(\"/\")[-1]\n",
    "    imgInput = sitk.ReadImage(a_file)\n",
    "    nda = sitk.GetArrayViewFromImage(imgInput) # Get a view of the image data as a numpy array, useful for display\n",
    "    img = sitk.GetImageFromArray(nda)\n",
    "    imgList.append((filename, img))\n",
    "    "
   ]
  },
  {
   "cell_type": "code",
   "execution_count": null,
   "metadata": {
    "collapsed": true
   },
   "outputs": [],
   "source": [
    "def figure_images(imageList, z):\n",
    "    \n",
    "    i = 1\n",
    "    for a_file in imageList:\n",
    "        sliced = sitk.GetArrayViewFromImage(a_file[1])[z,:,:]        \n",
    "        #plt.subplot(round(len(imageList)/3)+1,3, i)\n",
    "        plt.figure()\n",
    "        plt.title(a_file[0])\n",
    "        plt.imshow(sliced, cmap=plt.cm.Greys_r)\n",
    "        plt.axis('off')\n",
    "        i = i+1\n"
   ]
  },
  {
   "cell_type": "code",
   "execution_count": null,
   "metadata": {
    "collapsed": true
   },
   "outputs": [],
   "source": [
    "figure_images(imgList, 80)"
   ]
  },
  {
   "cell_type": "markdown",
   "metadata": {},
   "source": [
    "### T1 and T2-weighted image"
   ]
  },
  {
   "cell_type": "code",
   "execution_count": 21,
   "metadata": {},
   "outputs": [],
   "source": [
    "from ipywidgets import interact, FloatSlider\n",
    "from myshow import myshow, myshow3d"
   ]
  },
  {
   "cell_type": "code",
   "execution_count": 23,
   "metadata": {},
   "outputs": [
    {
     "data": {
      "application/vnd.jupyter.widget-view+json": {
       "model_id": "8ca1db0c11d8426d938f6b63d2a56309",
       "version_major": 2,
       "version_minor": 0
      },
      "text/plain": [
       "A Jupyter Widget"
      ]
     },
     "metadata": {},
     "output_type": "display_data"
    },
    {
     "data": {
      "application/vnd.jupyter.widget-view+json": {
       "model_id": "6548ba3bc7c846638d21955451494679",
       "version_major": 2,
       "version_minor": 0
      },
      "text/plain": [
       "A Jupyter Widget"
      ]
     },
     "metadata": {},
     "output_type": "display_data"
    }
   ],
   "source": [
    "img_T1 = sitk.ReadImage(\"/home/seonwhee/Deep_Learning/Datasets/BRATS2015_Training/HGG/brats_2013_pat0010_1/VSD.Brain.XX.O.MR_T1.54567/VSD.Brain.XX.O.MR_T1.54567.mha\")\n",
    "img_T2 = sitk.ReadImage(\"/home/seonwhee/Deep_Learning/Datasets/BRATS2015_Training/HGG/brats_2013_pat0010_1/VSD.Brain.XX.O.MR_T2.54569/VSD.Brain.XX.O.MR_T2.54569.mha\")\n",
    "# To visualize the labels image in RGB with needs a image with 0-255 range\n",
    "img_T1_255 = sitk.Cast(sitk.RescaleIntensity(img_T1), sitk.sitkUInt8)\n",
    "img_T2_255 = sitk.Cast(sitk.RescaleIntensity(img_T2), sitk.sitkUInt8)\n",
    "\n",
    "myshow3d(img_T1)\n",
    "myshow3d(img_T2)"
   ]
  },
  {
   "cell_type": "markdown",
   "metadata": {},
   "source": [
    "## dicom files"
   ]
  },
  {
   "cell_type": "code",
   "execution_count": 5,
   "metadata": {
    "collapsed": true
   },
   "outputs": [],
   "source": [
    "import cv2\n",
    "import numpy as np\n",
    "import dicom as pdicom\n",
    "import os\n",
    "import subprocess as sp"
   ]
  },
  {
   "cell_type": "code",
   "execution_count": 3,
   "metadata": {
    "collapsed": true
   },
   "outputs": [],
   "source": [
    "dicomfiles = glob(\"/home/seonwhee/Deep_Learning/Datasets/*/*dcm\")"
   ]
  },
  {
   "cell_type": "code",
   "execution_count": null,
   "metadata": {
    "collapsed": true
   },
   "outputs": [],
   "source": [
    "def View_dicom(dicomList):\n",
    "    for a_dicom in dicomList:\n",
    "        an_array = pdicom.read_file(a_dicom)\n",
    "        ConstPixelDims = (int(an_array.Rows), int(an_array.Columns), len(dicomfiles))\n",
    "        ConstPixelSpacing = (float(an_array.PixelSpacing[0]), float(an_array.PixelSpacing[1]), float(an_array.SliceThickness))\n",
    "        x = np.arange(0.0, (ConstPixelDims[0]+1)*ConstPixelSpacing[0], ConstPixelSpacing[0])\n",
    "        y = np.arange(0.0, (ConstPixelDims[1]+1)*ConstPixelSpacing[1], ConstPixelSpacing[1])\n",
    "        z = np.arange(0.0, (ConstPixelDims[2]+1)*ConstPixelSpacing[2], ConstPixelSpacing[2])\n",
    "        ArrayDicom = np.zeros(ConstPixelDims, dtype=an_array.pixel_array.dtype)        \n",
    "        ArrayDicom[:, :, dicomfiles.index(a_file)] = an_array.pixel_array\n",
    "        plt.figure()\n",
    "        plt.axes().set_aspect('equal', 'datalim')\n",
    "        plt.set_cmap(plt.gray())\n",
    "        plt.pcolormesh(x,y,np.flipud(ArrayDicom[:,:,80]))\n",
    "        "
   ]
  },
  {
   "cell_type": "code",
   "execution_count": null,
   "metadata": {
    "collapsed": true
   },
   "outputs": [],
   "source": [
    "def applying_N3(inputList):\n",
    "    output_dir = \"/home/seonwhee/Radiology/N3_output/\"\n",
    "    command = \"/home/seonwhee/Radiology/itkN3 %s %s\" %(inputList, output_dir)\n",
    "    sp.call(cmd)\n",
    "    "
   ]
  }
 ],
 "metadata": {
  "anaconda-cloud": {},
  "kernelspec": {
   "display_name": "Python [conda root]",
   "language": "python",
   "name": "conda-root-py"
  },
  "language_info": {
   "codemirror_mode": {
    "name": "ipython",
    "version": 3
   },
   "file_extension": ".py",
   "mimetype": "text/x-python",
   "name": "python",
   "nbconvert_exporter": "python",
   "pygments_lexer": "ipython3",
   "version": "3.5.4"
  }
 },
 "nbformat": 4,
 "nbformat_minor": 2
}
