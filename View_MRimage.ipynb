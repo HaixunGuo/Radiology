{
 "cells": [
  {
   "cell_type": "code",
   "execution_count": 3,
   "metadata": {
    "collapsed": true
   },
   "outputs": [],
   "source": [
    "from glob import glob\n",
    "import numpy as np\n",
    "import matplotlib.pyplot as plt\n",
    "%matplotlib inline"
   ]
  },
  {
   "cell_type": "code",
   "execution_count": 7,
   "metadata": {},
   "outputs": [
    {
     "ename": "ImportError",
     "evalue": "cannot import name 'figure_images'",
     "output_type": "error",
     "traceback": [
      "\u001b[0;31m---------------------------------------------------------------------------\u001b[0m",
      "\u001b[0;31mImportError\u001b[0m                               Traceback (most recent call last)",
      "\u001b[0;32m<ipython-input-7-6a31dab55cb6>\u001b[0m in \u001b[0;36m<module>\u001b[0;34m()\u001b[0m\n\u001b[1;32m      1\u001b[0m \u001b[0;32mimport\u001b[0m \u001b[0mSimpleITK\u001b[0m \u001b[0;32mas\u001b[0m \u001b[0msitk\u001b[0m\u001b[0;34m\u001b[0m\u001b[0m\n\u001b[1;32m      2\u001b[0m \u001b[0;32mimport\u001b[0m \u001b[0mskimage\u001b[0m\u001b[0;34m.\u001b[0m\u001b[0mio\u001b[0m \u001b[0;32mas\u001b[0m \u001b[0mio\u001b[0m\u001b[0;34m\u001b[0m\u001b[0m\n\u001b[0;32m----> 3\u001b[0;31m \u001b[0;32mfrom\u001b[0m \u001b[0mimage_detector\u001b[0m \u001b[0;32mimport\u001b[0m \u001b[0mread_image_into_ndArray\u001b[0m\u001b[0;34m,\u001b[0m \u001b[0mfigure_images\u001b[0m\u001b[0;34m\u001b[0m\u001b[0m\n\u001b[0m",
      "\u001b[0;31mImportError\u001b[0m: cannot import name 'figure_images'"
     ]
    }
   ],
   "source": [
    "import SimpleITK as sitk\n",
    "import skimage.io as io\n",
    "from image_detector import read_image_into_ndArray, figure_images"
   ]
  },
  {
   "cell_type": "markdown",
   "metadata": {},
   "source": [
    "## 2D images (jpg, png, etc)"
   ]
  },
  {
   "cell_type": "code",
   "execution_count": 5,
   "metadata": {},
   "outputs": [
    {
     "name": "stdout",
     "output_type": "stream",
     "text": [
      "The dimension of the image is  (240, 240, 3)\n"
     ]
    }
   ],
   "source": [
    "imgfile = \"/home/seonwhee/Deep_Learning/Solaris/week9/FCN-BRATS/Data_zoo/BRATS/images/training/VSD.Brain.XX.O.MR_T1c.54514_1.jpg\"\n",
    "img2 = read_image_into_ndArray(imgfile, PlugIn='matplotlib')"
   ]
  },
  {
   "cell_type": "markdown",
   "metadata": {},
   "source": [
    "## ITK metaImage"
   ]
  },
  {
   "cell_type": "code",
   "execution_count": 6,
   "metadata": {},
   "outputs": [
    {
     "name": "stdout",
     "output_type": "stream",
     "text": [
      "The dimension of the image is  (155, 240, 240)\n"
     ]
    }
   ],
   "source": [
    "mhafile = \"/home/seonwhee/Deep_Learning/Datasets/BRATS2015_Training/HGG/brats_2013_pat0001_1/VSD.Brain.XX.O.MR_Flair.54512/VSD.Brain.XX.O.MR_Flair.54512.mha\"\n",
    "img = read_image_into_ndArray(mhafile, PlugIn='simpleitk')"
   ]
  },
  {
   "cell_type": "code",
   "execution_count": null,
   "metadata": {
    "collapsed": true
   },
   "outputs": [],
   "source": [
    "mhafile2 = \"/home/seonwhee/Deep_Learning/Datasets/BRATS2015_Training/HGG/brats_tcia_pat105_0001/VSD.Brain.XX.O.MR_T1.35536/VSD.Brain.XX.O.MR_T1.35536.mha\"\n",
    "img2 = read_image_into_ndArray(mhafile2, PlugIn='simpleitk')"
   ]
  },
  {
   "cell_type": "markdown",
   "metadata": {},
   "source": [
    "#### Multiple files"
   ]
  },
  {
   "cell_type": "code",
   "execution_count": null,
   "metadata": {
    "collapsed": true
   },
   "outputs": [],
   "source": [
    "mhafiles = glob('/home/seonwhee/Deep_Learning/Datasets/BRATS-2/Image_Data/HG/*/*/*mha')"
   ]
  },
  {
   "cell_type": "code",
   "execution_count": null,
   "metadata": {
    "collapsed": true
   },
   "outputs": [],
   "source": [
    "imgList = []\n",
    "for a_file in mhafiles:\n",
    "    filename = a_file.split(\"/\")[-1]\n",
    "    imgInput = sitk.ReadImage(a_file)\n",
    "    nda = sitk.GetArrayViewFromImage(imgInput) # Get a view of the image data as a numpy array, useful for display\n",
    "    img = sitk.GetImageFromArray(nda)\n",
    "    imgList.append((filename, img))\n",
    "    "
   ]
  },
  {
   "cell_type": "code",
   "execution_count": null,
   "metadata": {
    "collapsed": true
   },
   "outputs": [],
   "source": [
    "figure_images(imgList, 80)"
   ]
  },
  {
   "cell_type": "markdown",
   "metadata": {},
   "source": [
    "### T1 and T2-weighted image"
   ]
  },
  {
   "cell_type": "code",
   "execution_count": null,
   "metadata": {
    "collapsed": true
   },
   "outputs": [],
   "source": [
    "from ipywidgets import interact, FloatSlider\n",
    "from myshow import myshow, myshow3d"
   ]
  },
  {
   "cell_type": "code",
   "execution_count": null,
   "metadata": {
    "collapsed": true
   },
   "outputs": [],
   "source": [
    "img_T1 = sitk.ReadImage(\"/home/seonwhee/Deep_Learning/Datasets/BRATS2015_Training/HGG/brats_2013_pat0010_1/VSD.Brain.XX.O.MR_T1.54567/VSD.Brain.XX.O.MR_T1.54567.mha\")\n",
    "img_T2 = sitk.ReadImage(\"/home/seonwhee/Deep_Learning/Datasets/BRATS2015_Training/HGG/brats_2013_pat0010_1/VSD.Brain.XX.O.MR_T2.54569/VSD.Brain.XX.O.MR_T2.54569.mha\")\n",
    "img_FLAIR = sitk.ReadImage(\"/home/seonwhee/Deep_Learning/Datasets/BRATS2015_Training/HGG/brats_2013_pat0010_1/VSD.Brain.XX.O.MR_Flair.54566/VSD.Brain.XX.O.MR_Flair.54566.mha\")\n",
    "img_T1c = sitk.ReadImage(\"/home/seonwhee/Deep_Learning/Datasets/BRATS2015_Training/HGG/brats_2013_pat0010_1/VSD.Brain.XX.O.MR_T1c.54568/VSD.Brain.XX.O.MR_T1c.54568.mha\")\n",
    "# To visualize the labels image in RGB with needs a image with 0-255 range\n",
    "img_T1_255 = sitk.Cast(sitk.RescaleIntensity(img_T1), sitk.sitkUInt8)\n",
    "img_T2_255 = sitk.Cast(sitk.RescaleIntensity(img_T2), sitk.sitkUInt8)\n",
    "img_FLAIR_255 = sitk.Cast(sitk.RescaleIntensity(img_FLAIR), sitk.sitkUInt8)\n",
    "img_T1c_255 = sitk.Cast(sitk.RescaleIntensity(img_T1c), sitk.sitkUInt8)\n",
    "myshow3d(img_T1)\n",
    "myshow3d(img_T1_255)"
   ]
  },
  {
   "cell_type": "code",
   "execution_count": null,
   "metadata": {
    "collapsed": true
   },
   "outputs": [],
   "source": [
    "# Slice index to visualize with 'sitk_show'\n",
    "idxSlice = 77\n",
    "\n",
    "# int label to assign to the segmented gray matter\n",
    "labelGrayMatter = 1\n",
    "\n",
    "lstSeeds = [(165, 178, idxSlice), (98, 165, idxSlice), (205, 125, idxSlice), (173, 205, idxSlice)]"
   ]
  },
  {
   "cell_type": "code",
   "execution_count": null,
   "metadata": {
    "collapsed": true
   },
   "outputs": [],
   "source": [
    "from image_detector import sitk_show, sitk_tile_vec"
   ]
  },
  {
   "cell_type": "code",
   "execution_count": null,
   "metadata": {
    "collapsed": true
   },
   "outputs": [],
   "source": [
    "imgComp = sitk.Compose(img_T1_255, img_T2_255, img_FLAIR_255, img_T1c_255)\n",
    "\n",
    "imgGrayMatterComp = sitk.VectorConfidenceConnected(image1=imgComp, \n",
    "                                               seedList=lstSeeds,\n",
    "                                               numberOfIterations=1,\n",
    "                                               multiplier=0.1,\n",
    "                                               replaceValue=labelGrayMatter)\n",
    "\n",
    "sitk_show(sitk.LabelOverlay(img_T2_255[:,:,idxSlice], imgGrayMatterComp[:,:,idxSlice]))"
   ]
  },
  {
   "cell_type": "markdown",
   "metadata": {},
   "source": [
    "## dicom files"
   ]
  },
  {
   "cell_type": "code",
   "execution_count": null,
   "metadata": {
    "collapsed": true
   },
   "outputs": [],
   "source": [
    "import cv2\n",
    "import numpy as np\n",
    "import dicom as pdicom\n",
    "import os\n",
    "import subprocess as sp"
   ]
  },
  {
   "cell_type": "code",
   "execution_count": null,
   "metadata": {
    "collapsed": true
   },
   "outputs": [],
   "source": [
    "dicomfiles = glob(\"/home/seonwhee/Deep_Learning/Datasets/*/*dcm\")"
   ]
  },
  {
   "cell_type": "code",
   "execution_count": null,
   "metadata": {
    "collapsed": true
   },
   "outputs": [],
   "source": [
    "def View_dicom(dicomList):\n",
    "    for a_dicom in dicomList:\n",
    "        an_array = pdicom.read_file(a_dicom)\n",
    "        ConstPixelDims = (int(an_array.Rows), int(an_array.Columns), len(dicomfiles))\n",
    "        ConstPixelSpacing = (float(an_array.PixelSpacing[0]), float(an_array.PixelSpacing[1]), float(an_array.SliceThickness))\n",
    "        x = np.arange(0.0, (ConstPixelDims[0]+1)*ConstPixelSpacing[0], ConstPixelSpacing[0])\n",
    "        y = np.arange(0.0, (ConstPixelDims[1]+1)*ConstPixelSpacing[1], ConstPixelSpacing[1])\n",
    "        z = np.arange(0.0, (ConstPixelDims[2]+1)*ConstPixelSpacing[2], ConstPixelSpacing[2])\n",
    "        ArrayDicom = np.zeros(ConstPixelDims, dtype=an_array.pixel_array.dtype)        \n",
    "        ArrayDicom[:, :, dicomfiles.index(a_file)] = an_array.pixel_array\n",
    "        plt.figure()\n",
    "        plt.axes().set_aspect('equal', 'datalim')\n",
    "        plt.set_cmap(plt.gray())\n",
    "        plt.pcolormesh(x,y,np.flipud(ArrayDicom[:,:,80]))\n",
    "        "
   ]
  },
  {
   "cell_type": "code",
   "execution_count": null,
   "metadata": {
    "collapsed": true
   },
   "outputs": [],
   "source": [
    "def applying_N3(inputList):\n",
    "    output_dir = \"/home/seonwhee/Radiology/N3_output/\"\n",
    "    command = \"/home/seonwhee/Radiology/itkN3 %s %s\" %(inputList, output_dir)\n",
    "    sp.call(cmd)\n",
    "    "
   ]
  }
 ],
 "metadata": {
  "anaconda-cloud": {},
  "kernelspec": {
   "display_name": "Python [conda root]",
   "language": "python",
   "name": "conda-root-py"
  },
  "language_info": {
   "codemirror_mode": {
    "name": "ipython",
    "version": 3
   },
   "file_extension": ".py",
   "mimetype": "text/x-python",
   "name": "python",
   "nbconvert_exporter": "python",
   "pygments_lexer": "ipython3",
   "version": "3.5.4"
  }
 },
 "nbformat": 4,
 "nbformat_minor": 2
}
