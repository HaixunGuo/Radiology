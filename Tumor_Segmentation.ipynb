{
 "cells": [
  {
   "cell_type": "markdown",
   "metadata": {},
   "source": [
    "# Notice\n",
    "## This python code is an unofficial Tensorflow implementation of the model from following reference\n",
    "### Authors : Havaei,M.; Davy,A.; Warde-Farley,D.; Biard,A.; Courville,A.; Bengio,Y.; Pal,C.; Jodoin,P.M.; Larochelle,H. \n",
    "### Title : Brain tumor segmentation with Deep Neural Networks\n",
    "### Source : Med.Image Anal., 2017, 35, 18-31, Elsevier B.V, Netherlands\n",
    "###### The code has not been completed yet. "
   ]
  },
  {
   "cell_type": "code",
   "execution_count": null,
   "metadata": {
    "collapsed": true
   },
   "outputs": [],
   "source": [
    "from __future__ import absolute_import\n",
    "from __future__ import division\n",
    "from __future__ import print_function\n",
    "\n",
    "import argparse\n",
    "import sys"
   ]
  },
  {
   "cell_type": "code",
   "execution_count": null,
   "metadata": {
    "collapsed": false
   },
   "outputs": [],
   "source": [
    "import numpy as np\n",
    "import random\n",
    "import json\n",
    "import h5py\n",
    "from glob import glob\n",
    "import matplotlib.pyplot as plt\n",
    "%matplotlib inline\n",
    "from skimage import io, color, img_as_float\n",
    "from skimage.exposure import adjust_gamma\n",
    "from skimage.segmentation import mark_boundaries\n",
    "from sklearn.feature_extraction.image import extract_patches_2d\n",
    "from sklearn.metrics import classification_report"
   ]
  },
  {
   "cell_type": "code",
   "execution_count": null,
   "metadata": {
    "collapsed": true
   },
   "outputs": [],
   "source": [
    "import tensorflow as tf"
   ]
  },
  {
   "cell_type": "code",
   "execution_count": 40,
   "metadata": {
    "collapsed": false
   },
   "outputs": [],
   "source": [
    "import SimpleITK as sitk\n",
    "from ipywidgets import interact, FloatSlider\n",
    "from myshow import myshow, myshow3d\n",
    "from TwoPathCNN import vanilla_CNN"
   ]
  },
  {
   "cell_type": "code",
   "execution_count": null,
   "metadata": {
    "collapsed": true
   },
   "outputs": [],
   "source": [
    "class Cascaded_architecture(vanilla_CNN, object):\n",
    "    def CNN_for_INPUT_Cascade(self, x):\n",
    "        cascadedLayer = self.Defining_CNN(x, 65)\n",
    "        y_conv = self.Defining_CNN(x, 33, (\"InputCas\", cascadedLayer))\n",
    "        return y_conv\n",
    "    \n",
    "    def CNN_for_LOCAL_Cascade(self, x):\n",
    "        cascadedLayer = self.Defining_CNN(x, 56)\n",
    "        y_conv = self.Defining_CNN(x, 33, (\"LocalCas\", cascadedLayer))\n",
    "        return y_conv\n",
    "    \n",
    "    def CNN_for_MF_Cascade(self, x):\n",
    "        cascadedLayer = self.Defining_CNN(x, 53)\n",
    "        y_conv = self.Defining_CNN(x, 33, (\"MFCas\", cascadedLayer))\n",
    "        return y_conv\n",
    "        \n",
    "        "
   ]
  },
  {
   "cell_type": "code",
   "execution_count": null,
   "metadata": {
    "collapsed": true
   },
   "outputs": [],
   "source": [
    "def Feeding_Data_and_Realizing_the_Model(_):\n",
    "    # data를 import한다.\n",
    "    img_T1 = sitk.ReadImage(\"/home/seonwhee/Deep_Learning/Datasets/BRATS2015_Training/HGG/brats_2013_pat0010_1/VSD.Brain.XX.O.MR_T1.54567/VSD.Brain.XX.O.MR_T1.54567.mha\")\n",
    "    img_T2 = sitk.ReadImage(\"/home/seonwhee/Deep_Learning/Datasets/BRATS2015_Training/HGG/brats_2013_pat0010_1/VSD.Brain.XX.O.MR_T2.54569/VSD.Brain.XX.O.MR_T2.54569.mha\")\n",
    "    img_FLAIR = sitk.ReadImage(\"/home/seonwhee/Deep_Learning/Datasets/BRATS2015_Training/HGG/brats_2013_pat0010_1/VSD.Brain.XX.O.MR_Flair.54566/VSD.Brain.XX.O.MR_Flair.54566.mha\")\n",
    "    img_T1c = sitk.ReadImage(\"/home/seonwhee/Deep_Learning/Datasets/BRATS2015_Training/HGG/brats_2013_pat0010_1/VSD.Brain.XX.O.MR_T1c.54568/VSD.Brain.XX.O.MR_T1c.54568.mha\")\n",
    "\n",
    "    # 모델을 생성한다.\n",
    "    img_T1_Slice = img_T1[:,:,77]\n",
    "    img_T1c_Slice = img_T1c[:,:,77]\n",
    "    img_T2_Slice = img_T2[:,:,77]\n",
    "    img_FLAIR_Slice = img_FLAIR[:,:,77]\n",
    "    imgVolume = sitk.JoinSeries(img_T1_Slice, img_T1c_Slice, img_T2_Slice, img_FLAIR_Slice)\n",
    "    width = imgVolume.GetWidth()\n",
    "    height = imgVolume.GetHeight()\n",
    "    depth = imgVolume.GetDepth()\n",
    "    X = tf.placeholder(tf.float32, shape=[None, width*height*depth])\n",
    "    ### NOTE: If you call this function often, you may want to (i) move the `np.pad()`\n",
    "    #### into the graph as `tf.pad()`, and (ii) replace `X_t` with a placeholder.\n",
    "    ###X = np.pad(X, (pad_amount, 0), 'constant')\n",
    "    ###X_t  = tf.convert_to_tensor(X)\n",
    "    ###output_t = tf.map_fn(window_func, tf.range(window_size))\n",
    "    ###output = sess.run(output_t)\n",
    "\n",
    "    # loss와 optimizer를 정의한다.\n",
    "    y_ = tf.placeholder(tf.float32, [None, 10])\n",
    "\n",
    "    # Deep Neural Networks 그래프를 생성한다.\n",
    "    y_conv = Defining_Two_pathway_CNN(X)\n",
    "\n",
    "    # Cross Entropy를 비용함수(loss function)으로 정의하고, AdamOptimizer를 이용해서 비용 함수를 최소화한다.\n",
    "    cross_entropy = tf.reduce_mean(tf.nn.softmax_cross_entropy_with_logits(labels=y_, logits=y_conv))\n",
    "    train_step = tf.train.AdamOptimizer(1e-4).minimize(cross_entropy)\n",
    "  \n",
    "    # 정확도를 측정한다.\n",
    "    correct_prediction = tf.equal(tf.argmax(y_conv, 1), tf.argmax(y_, 1))\n",
    "    accuracy = tf.reduce_mean(tf.cast(correct_prediction, tf.float32))\n",
    "    \n",
    "    # Dice coefficient\n",
    "\n",
    "    with tf.Session() as sess:\n",
    "        sess.run(tf.global_variables_initializer())\n",
    "        for i in range(20000):\n",
    "            batch = mnist.train.next_batch(50)\n",
    "            # 100 Step마다 training 데이터셋에 대한 정확도를 출력한다.\n",
    "            if i % 100 == 0:\n",
    "                train_accuracy = accuracy.eval(feed_dict={x: batch[0], y_: batch[1], keep_prob: 1.0})\n",
    "                print('step %d, training accuracy %g' % (i, train_accuracy))\n",
    "        # 50% 확률의 Dropout을 이용해서 학습을 진행한다.\n",
    "        train_step.run(feed_dict={x: batch[0], y_: batch[1], keep_prob: 0.5})\n",
    "\n",
    "    # 테스트 데이터에 대한 정확도를 출력한다.\n",
    "    print('test accuracy %g' % accuracy.eval(feed_dict={x: mnist.test.images, y_: mnist.test.labels, keep_prob: 1.0}))\n"
   ]
  },
  {
   "cell_type": "code",
   "execution_count": null,
   "metadata": {
    "collapsed": true
   },
   "outputs": [],
   "source": []
  }
 ],
 "metadata": {
  "anaconda-cloud": {},
  "kernelspec": {
   "display_name": "Python 3",
   "language": "python",
   "name": "python3"
  },
  "language_info": {
   "codemirror_mode": {
    "name": "ipython",
    "version": 3
   },
   "file_extension": ".py",
   "mimetype": "text/x-python",
   "name": "python",
   "nbconvert_exporter": "python",
   "pygments_lexer": "ipython3",
   "version": "3.5.2"
  }
 },
 "nbformat": 4,
 "nbformat_minor": 2
}
