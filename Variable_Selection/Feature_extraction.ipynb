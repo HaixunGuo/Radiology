{
 "cells": [
  {
   "cell_type": "code",
   "execution_count": null,
   "metadata": {},
   "outputs": [],
   "source": [
    "from radiomics import firstorder, glcm, imageoperations, shape, glrlm, glszm, getTestCase\n",
    "import SimpleITK as sitk\n",
    "import six\n",
    "import sys, os"
   ]
  },
  {
   "cell_type": "markdown",
   "metadata": {},
   "source": [
    "## Feature extractor"
   ]
  },
  {
   "cell_type": "code",
   "execution_count": null,
   "metadata": {},
   "outputs": [],
   "source": [
    "class Feature_Extraction(object):\n",
    "    def __init__(self, dataDir):\n",
    "        imageName, maskName = getTestCase('brain1', dataDir)\n",
    "        self.image = sitk.ReadImage(imageName)\n",
    "        self.mask = sitk.ReadImage(maskName)    \n",
    "    \n",
    "    def Feature_Calculation(self, FeatureObject, FeatureDict):\n",
    "        FeatureObject.enableAllFeatures() # On the feature class level, all features are disabled by default.\n",
    "        FeatureObject.calculateFeatures()        \n",
    "        for (key,val) in six.iteritems(FeatureObject.featureValues):\n",
    "            FeatureDict[key] = val            \n",
    "        return FeatureDict\n",
    "    "
   ]
  },
  {
   "cell_type": "markdown",
   "metadata": {},
   "source": [
    "## Texture features"
   ]
  },
  {
   "cell_type": "code",
   "execution_count": null,
   "metadata": {},
   "outputs": [],
   "source": [
    "class Text_features(Feature_Extraction, object):\n",
    "    def Get_Features(self):\n",
    "        TextFeatures = {}\n",
    "        FirstOrderFeatures = firstorder.RadiomicsFirstOrder(self.image,self.mask)\n",
    "        TextFeatures = self.Feature_Calculation(FirstOrderFeatures, TextFeatures)\n",
    "        del FirstOrderFeatures\n",
    "        \n",
    "        ShapeFeatures = shape.RadiomicsShape(self.image, self.mask)\n",
    "        TextFeatures = self.Feature_Calculation(ShapeFeatures, TextFeatures)\n",
    "        del ShapeFeatures\n",
    "        \n",
    "        GLCM_Features = glcm.RadiomicsGLCM(self.image,self.mask)\n",
    "        TextFeatures = self.Feature_Calculation(GLCM_Features, TextFeatures)\n",
    "        del GLCM_Features\n",
    "        \n",
    "        GLSZM_Features = glszm.RadiomicsGLSZM(self.image, self.mask)\n",
    "        TextFeatures = self.Feature_Calculation(GLSZM_Features, TextFeatures)\n",
    "        del GLSZM_Features\n",
    "        \n",
    "        GLRLM_Features = glrlm.RadiomicsGLRLM(self.image, self.mask)\n",
    "        TextFeatures = self.Feature_Calculation(GLRLM_Features, TextFeatures)\n",
    "        del GLRLM_Features\n",
    "        \n",
    "        return TextFeatures\n",
    "       "
   ]
  },
  {
   "cell_type": "code",
   "execution_count": null,
   "metadata": {},
   "outputs": [],
   "source": [
    "FeatureList = []\n",
    "dataDir = '/home/seonwhee/Deep_Learning/Datasets/BRATS2015_Training/HGG/brats_tcia_pat138_0001/VSD.Brain_3more.XX.O.OT.42309/VSD.Brain_3more.XX.O.OT.42309.mha'\n",
    "feature = Text_features(dataDir)\n",
    "TextFeatures = feature.Get_Features()\n",
    "FeatureList.append(TextFeatures)\n",
    "del feature, TextFeatures\n",
    "dataDir2 = '/home/seonwhee/Deep_Learning/Datasets/BRATS2015_Training/HGG/brats_tcia_pat153_0109/VSD.Brain_3more.XX.O.OT.42325/VSD.Brain_3more.XX.O.OT.42325.mha'\n",
    "feature = Text_features(dataDir2)\n",
    "TextFeatures = feature.Get_Features()\n",
    "FeatureList.append(TextFeatures)\n",
    "del feature, TextFeatures\n",
    "\n",
    "DF = pd.DataFrame.from_dict(FeatureList)\n",
    "print(DF)"
   ]
  },
  {
   "cell_type": "markdown",
   "metadata": {},
   "source": [
    "## Wavelet features"
   ]
  },
  {
   "cell_type": "code",
   "execution_count": null,
   "metadata": {},
   "outputs": [],
   "source": [
    "import pywt\n",
    "class Wavelet_features(Feature_Extraction, object):\n",
    "    def Coiflet_wavelet(self):\n",
    "        self.wavelet = pywt.Wavelet('coif1')\n",
    "        print(self.wavelet)\n"
   ]
  },
  {
   "cell_type": "markdown",
   "metadata": {},
   "source": [
    "## Logging"
   ]
  },
  {
   "cell_type": "code",
   "execution_count": null,
   "metadata": {},
   "outputs": [],
   "source": [
    "import radiomics\n",
    "import logging\n",
    "log_file = '/home/seonwhee/Deep_Learning/Datasets/BRATS2015_Training/HGG/brats_tcia_pat138_0001/log_file.txt'\n",
    "handler = logging.FileHandler(filename=log_file, mode='w')  # overwrites log_files from previous runs. Change mode to 'a' to append.\n",
    "formatter = logging.Formatter(\"%(levelname)s:%(name)s: %(message)s\")  # format string for log messages\n",
    "handler.setFormatter(formatter)\n",
    "radiomics.logger.addHandler(handler)\n",
    "\n",
    "# Control the amount of logging stored by setting the level of the logger. N.B. if the level is higher than the\n",
    "# Verbositiy level, the logger level will also determine the amount of information printed to the output\n",
    "radiomics.logger.setLevel(logging.DEBUG)"
   ]
  },
  {
   "cell_type": "markdown",
   "metadata": {},
   "source": [
    "## Clinical Data"
   ]
  },
  {
   "cell_type": "code",
   "execution_count": null,
   "metadata": {},
   "outputs": [],
   "source": [
    "import pandas as pd\n",
    "DataDir = \"/home/seonwhee/Deep_Learning/Datasets/TCGA-GBM\"\n",
    "PatDF = pd.DataFrame.from_csv(path=\"%s/nationwidechildrens.org_clinical_patient_gbm.txt\"%(DataDir), sep=\"\\t\", index_col=1, header=[0])\n",
    "DrugDF = pd.DataFrame.from_csv(path=\"%s/nationwidechildrens.org_clinical_drug_gbm.txt\"%(DataDir), sep=\"\\t\")"
   ]
  },
  {
   "cell_type": "markdown",
   "metadata": {},
   "source": [
    "## Summarize the output features"
   ]
  },
  {
   "cell_type": "code",
   "execution_count": 74,
   "metadata": {},
   "outputs": [
    {
     "name": "stderr",
     "output_type": "stream",
     "text": [
      "/home/seonwhee/anaconda3/lib/python3.5/site-packages/ipykernel/__main__.py:8: FutureWarning: from_csv is deprecated. Please use read_csv(...) instead. Note that some of the default arguments are different, so please refer to the documentation for from_csv when changing your function calls\n"
     ]
    }
   ],
   "source": [
    "import pandas as pd\n",
    "from glob import glob\n",
    "tsvfiles = glob(\"/home/seonwhee/Deep_Learning/Datasets/BRATS2015_Training/HGG/*/*more*/Table.tsv\")\n",
    "FeatureList = []\n",
    "\n",
    "for tsv in tsvfiles:\n",
    "    colname = (tsv.split(\"/\")[-2])\n",
    "    DF = pd.DataFrame.from_csv(tsv, sep='\\t')\n",
    "    DF.columns = ['Image type', 'Feature Class', 'Feature Name', colname]\n",
    "    \n",
    "    DF = DF.reset_index()\n",
    "    DF = DF.drop('Label', axis=1)\n",
    "   \n",
    "    FeatureList.append(DF)\n",
    "\n",
    "TotalDF = pd.concat(FeatureList, axis=1)\n",
    "TotalDF = TotalDF.T.drop_duplicates().T\n",
    "TotalDF.to_csv(\"/home/seonwhee/Deep_Learning/MRImage_Pipeline/Variable_Selection/RadiomicFeatures.csv\", sep=\"\\t\", encoding='utf-8')\n"
   ]
  }
 ],
 "metadata": {
  "anaconda-cloud": {},
  "kernelspec": {
   "display_name": "Python [default]",
   "language": "python",
   "name": "python3"
  },
  "language_info": {
   "codemirror_mode": {
    "name": "ipython",
    "version": 3
   },
   "file_extension": ".py",
   "mimetype": "text/x-python",
   "name": "python",
   "nbconvert_exporter": "python",
   "pygments_lexer": "ipython3",
   "version": "3.5.4"
  }
 },
 "nbformat": 4,
 "nbformat_minor": 2
}
