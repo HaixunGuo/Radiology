{
 "cells": [
  {
   "cell_type": "code",
   "execution_count": 13,
   "metadata": {
    "collapsed": true
   },
   "outputs": [],
   "source": [
    "from radiomics import firstorder, glcm, imageoperations, shape, glrlm, glszm, getTestCase\n",
    "import SimpleITK as sitk\n",
    "import six\n",
    "import sys, os"
   ]
  },
  {
   "cell_type": "code",
   "execution_count": 24,
   "metadata": {},
   "outputs": [],
   "source": [
    "class Feature_Extraction(object):\n",
    "    def __init__(self, dataDir):\n",
    "        imageName, maskName = getTestCase('brain1', dataDir)\n",
    "        self.image = sitk.ReadImage(imageName)\n",
    "        self.mask = sitk.ReadImage(maskName)\n",
    "        self.FirstOrder = False\n",
    "        self.Shape = True\n",
    "        self.GLSZM = False\n",
    "        self.GLCM = True\n",
    "        self.GLRLM = False\n",
    "        self.NZTDM = False\n",
    "        self.GLDM = False\n",
    "    \n",
    "    def Get_Features(self):\n",
    "        if self.FirstOrder:\n",
    "            Features = firstorder.RadiomicsFirstOrder(self.image,self.mask)\n",
    "            self.Feature_Calculation(Features)\n",
    "            \n",
    "        if self.Shape:\n",
    "            Features = shape.RadiomicsShape(self.image, self.mask)\n",
    "            self.Feature_Calculation(Features)\n",
    "        if self.GLCM:\n",
    "            Features = glcm.RadiomicsGLCM(self.image,self.mask)\n",
    "            self.Feature_Calculation(Features)\n",
    "    \n",
    "    def Feature_Calculation(self, FeatureObject):\n",
    "        FeatureObject.enableAllFeatures() # On the feature class level, all features are disabled by default.\n",
    "        FeatureObject.calculateFeatures()\n",
    "        for (key,val) in six.iteritems(FeatureObject.featureValues):\n",
    "            print(\"\\t%s: %s\" % (key, val))\n",
    "        \n",
    "        \n",
    "    "
   ]
  },
  {
   "cell_type": "code",
   "execution_count": 25,
   "metadata": {},
   "outputs": [
    {
     "name": "stderr",
     "output_type": "stream",
     "text": [
      "GLCM is symmetrical, therefore Sum Average = 2 * Joint Average, only 1 needs to be calculated\n"
     ]
    },
    {
     "name": "stdout",
     "output_type": "stream",
     "text": [
      "\tMajorAxis: 61.9972204698\n",
      "\tSphericity: 0.485061744222\n",
      "\tMaximum3DDiameter: 65.53661458728622\n",
      "\tMaximum2DDiameterSlice: 47.218791363317415\n",
      "\tLeastAxis: 28.5844231854\n",
      "\tFlatness: 0.461059753466\n",
      "\tMaximum2DDiameterRow: 61.58017671347248\n",
      "\tSurfaceVolumeRatio: 0.392308261863\n",
      "\tVolume: 16412.6586914\n",
      "\tSurfaceArea: 6438.821603779402\n",
      "\tMinorAxis: 34.8497016669\n",
      "\tElongation: 0.562117162717\n",
      "\tMaximum2DDiameterColumn: 44.54879040515578\n",
      "\tImc1: -0.0943893880874\n",
      "\tId: 0.28722572383\n",
      "\tSumAverage: 33.1076154489\n",
      "\tClusterTendency: 108.731393255\n",
      "\tInverseVariance: 0.198818841971\n",
      "\tDifferenceVariance: 16.6556370503\n",
      "\tImc2: 0.694224902067\n",
      "\tClusterProminence: 27995.9375919\n",
      "\tJointAverage: 16.5538077244\n",
      "\tClusterShade: 19.6050834273\n",
      "\tIdm: 0.200222556405\n",
      "\tSumEntropy: 5.35424132149\n",
      "\tJointEntropy: 8.79969627025\n",
      "\tDifferenceEntropy: 3.74406097807\n",
      "\tCorrelation: 0.39175220067\n",
      "\tIdmn: 0.961402169623\n",
      "\tMaximumProbability: 0.00735239226629\n",
      "\tDifferenceAverage: 5.28446878987\n",
      "\tSumSquares: 39.0558795922\n",
      "\tContrast: 47.4921251144\n",
      "\tAutocorrelation: 289.543699402\n",
      "\tJointEnergy: 0.00289314924299\n",
      "\tIdn: 0.87260521574\n"
     ]
    }
   ],
   "source": [
    "dataDir = '/home/seonwhee/Deep_Learning/Datasets/BRATS2015_Training/HGG/brats_tcia_pat138_0001/VSD.Brain_3more.XX.O.OT.42309/'\n",
    "feature = Feature_Extraction(dataDir)\n",
    "feature.Get_Features()"
   ]
  },
  {
   "cell_type": "code",
   "execution_count": null,
   "metadata": {
    "collapsed": true
   },
   "outputs": [],
   "source": [
    "import radiomics\n",
    "import logging\n",
    "log_file = '/home/seonwhee/Deep_Learning/Datasets/BRATS2015_Training/HGG/brats_tcia_pat138_0001/log_file.txt'\n",
    "handler = logging.FileHandler(filename=log_file, mode='w')  # overwrites log_files from previous runs. Change mode to 'a' to append.\n",
    "formatter = logging.Formatter(\"%(levelname)s:%(name)s: %(message)s\")  # format string for log messages\n",
    "handler.setFormatter(formatter)\n",
    "radiomics.logger.addHandler(handler)\n",
    "\n",
    "# Control the amount of logging stored by setting the level of the logger. N.B. if the level is higher than the\n",
    "# Verbositiy level, the logger level will also determine the amount of information printed to the output\n",
    "radiomics.logger.setLevel(logging.DEBUG)"
   ]
  },
  {
   "cell_type": "code",
   "execution_count": null,
   "metadata": {
    "collapsed": true
   },
   "outputs": [],
   "source": []
  }
 ],
 "metadata": {
  "anaconda-cloud": {},
  "kernelspec": {
   "display_name": "Python [default]",
   "language": "python",
   "name": "python3"
  },
  "language_info": {
   "codemirror_mode": {
    "name": "ipython",
    "version": 3
   },
   "file_extension": ".py",
   "mimetype": "text/x-python",
   "name": "python",
   "nbconvert_exporter": "python",
   "pygments_lexer": "ipython3",
   "version": "3.5.4"
  }
 },
 "nbformat": 4,
 "nbformat_minor": 2
}
