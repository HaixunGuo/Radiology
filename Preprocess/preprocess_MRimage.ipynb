{
 "cells": [
  {
   "cell_type": "code",
   "execution_count": 1,
   "metadata": {
    "collapsed": true
   },
   "outputs": [],
   "source": [
    "from glob import glob\n",
    "%matplotlib inline\n",
    "import matplotlib.pyplot as plt"
   ]
  },
  {
   "cell_type": "code",
   "execution_count": 14,
   "metadata": {
    "collapsed": true
   },
   "outputs": [],
   "source": [
    "import cv2\n",
    "import numpy as np\n",
    "import dicom as pdicom\n",
    "import os, sys\n",
    "import subprocess as sp"
   ]
  },
  {
   "cell_type": "code",
   "execution_count": 3,
   "metadata": {
    "collapsed": true
   },
   "outputs": [],
   "source": [
    "import SimpleITK as sitk\n",
    "import skimage.io as io"
   ]
  },
  {
   "cell_type": "code",
   "execution_count": 4,
   "metadata": {
    "collapsed": true
   },
   "outputs": [],
   "source": [
    "homeDir = \"/home/seonwhee/Deep_Learning/Datasets/BRATS2015_Training/HGG/\"\n",
    "requestedPath = os.path.join(homeDir, 'brats_2013_pat0010_1')\n",
    "mydatadir = os.path.realpath(requestedPath)\n",
    "if not os.path.exists(mydatadir):\n",
    "    print(\"The path %s does not exist\" %(mydatadir))"
   ]
  },
  {
   "cell_type": "code",
   "execution_count": 5,
   "metadata": {
    "collapsed": true
   },
   "outputs": [],
   "source": [
    "MyFileURLs = {\"T1\": os.path.join(mydatadir, 'VSD.Brain.XX.O.MR_T1.54567/VSD.Brain.XX.O.MR_T1.54567.mha'), \n",
    "              \"T2\": os.path.join(mydatadir, 'VSD.Brain.XX.O.MR_T2.54569/VSD.Brain.XX.O.MR_T2.54569.mha'), \n",
    "              \"FLAIR\":os.path.join(mydatadir, 'VSD.Brain.XX.O.MR_Flair.54566/VSD.Brain.XX.O.MR_Flair.54566.mha'), \n",
    "              \"T1c\": os.path.join(mydatadir, 'VSD.Brain.XX.O.MR_T1c.54568/VSD.Brain.XX.O.MR_T1c.54568.mha')}"
   ]
  },
  {
   "cell_type": "code",
   "execution_count": 6,
   "metadata": {
    "collapsed": true
   },
   "outputs": [],
   "source": [
    "img_T1 = sitk.ReadImage(MyFileURLs[\"T1\"])\n",
    "img_T2 = sitk.ReadImage(MyFileURLs[\"T2\"])\n",
    "img_FLAIR = sitk.ReadImage(MyFileURLs[\"FLAIR\"])\n",
    "img_T1c = sitk.ReadImage(MyFileURLs[\"T1c\"])"
   ]
  },
  {
   "cell_type": "markdown",
   "metadata": {},
   "source": [
    "## Image Smoothing/Denoising"
   ]
  },
  {
   "cell_type": "code",
   "execution_count": 5,
   "metadata": {
    "collapsed": true
   },
   "outputs": [],
   "source": [
    "img_T1_Smooth = sitk.CurvatureFlow(image1=img_T1, timeStep=0.125, numberOfIterations=5)\n",
    "img_T2_Smooth = sitk.CurvatureFlow(image1=img_T2, timeStep=0.125,  numberOfIterations=5)\n",
    "img_T1c_Smooth = sitk.CurvatureFlow(image1=img_T1c, timeStep=0.125, numberOfIterations=5)\n",
    "img_FLAIR_Smooth = sitk.CurvatureFlow(image1=img_FLAIR, timeStep=0.125, numberOfIterations=5)"
   ]
  },
  {
   "cell_type": "markdown",
   "metadata": {},
   "source": [
    "## Intensity Rescale"
   ]
  },
  {
   "cell_type": "code",
   "execution_count": 6,
   "metadata": {
    "collapsed": true
   },
   "outputs": [],
   "source": [
    "# To visualize the labels image in RGB with needs a image with 0-255 range\n",
    "img_T1_255 = sitk.Cast(sitk.RescaleIntensity(img_T1_Smooth), sitk.sitkUInt8)\n",
    "img_T2_255 = sitk.Cast(sitk.RescaleIntensity(img_T2_Smooth), sitk.sitkUInt8)\n",
    "img_FLAIR_255 = sitk.Cast(sitk.RescaleIntensity(img_FLAIR_Smooth), sitk.sitkUInt8)\n",
    "img_T1c_255 = sitk.Cast(sitk.RescaleIntensity(img_T1c_Smooth), sitk.sitkUInt8)"
   ]
  },
  {
   "cell_type": "markdown",
   "metadata": {},
   "source": [
    "## Seed"
   ]
  },
  {
   "cell_type": "code",
   "execution_count": 8,
   "metadata": {
    "collapsed": true
   },
   "outputs": [],
   "source": [
    "# Slice index to visualize with 'sitk_show'\n",
    "idxSlice = 77\n",
    "\n",
    "# int label to assign to the segmented gray matter\n",
    "labelGrayMatter = 1\n",
    "\n",
    "lstSeeds = [(165, 178, idxSlice), (98, 165, idxSlice), (205, 125, idxSlice), (173, 205, idxSlice)]"
   ]
  },
  {
   "cell_type": "code",
   "execution_count": 9,
   "metadata": {
    "collapsed": true
   },
   "outputs": [],
   "source": [
    "imgGrayMatterT1 = sitk.ConfidenceConnected(image1=img_T1_Smooth, seedList=lstSeeds,\n",
    "                                                numberOfIterations=3,multiplier=1, replaceValue=labelGrayMatter)\n",
    "imgT1SmoothInt = sitk.Cast(sitk.RescaleIntensity(img_T1_Smooth), imgGrayMatterT1.GetPixelID())\n",
    "imgGrayMatterT2 = sitk.ConfidenceConnected(image1=img_T2_Smooth, seedList=lstSeeds,\n",
    "                                                numberOfIterations=3,multiplier=1, replaceValue=labelGrayMatter)\n",
    "imgT2SmoothInt = sitk.Cast(sitk.RescaleIntensity(img_T2_Smooth), imgGrayMatterT2.GetPixelID())"
   ]
  },
  {
   "cell_type": "markdown",
   "metadata": {},
   "source": [
    "## Intensity Non-uniformity Correction"
   ]
  },
  {
   "cell_type": "code",
   "execution_count": null,
   "metadata": {
    "collapsed": true
   },
   "outputs": [],
   "source": [
    "def applying_N3(inputList):\n",
    "    output_dir = \"/home/seonwhee/Radiology/N3_output/\"\n",
    "    command = \"/home/seonwhee/Radiology/itkN3 %s %s\" %(inputList, output_dir)\n",
    "    sp.call(cmd)"
   ]
  },
  {
   "cell_type": "markdown",
   "metadata": {},
   "source": [
    "## Image Registration using ANTs"
   ]
  },
  {
   "cell_type": "code",
   "execution_count": 7,
   "metadata": {
    "collapsed": true
   },
   "outputs": [],
   "source": [
    "from __future__ import print_function, unicode_literals\n",
    "from builtins import open\n",
    "from future import standard_library\n",
    "standard_library.install_aliases()\n",
    "import urllib.request\n",
    "import urllib.error\n",
    "import urllib.parse\n",
    "from nipype.interfaces.ants import Registration"
   ]
  },
  {
   "cell_type": "code",
   "execution_count": 24,
   "metadata": {},
   "outputs": [
    {
     "data": {
      "text/plain": [
       "CompletedProcess(args='ls /home/seonwhee', returncode=0, stdout=b'anaconda3\\nBioinformatics\\nboost_1_55_0\\nboost_1_55_0_lib\\nboost_1_63_0\\nC_coder\\nchromedriver\\ncuda_8.0.44_linux.run\\ncuffData.db\\nData_Mining\\nDeep_Learning\\nDesktop\\nDocuments\\nDownloads\\nEigen\\nexamples.desktop\\nget-pip.py\\nGoogle_DeepMind\\ngsea_home\\nhplip-3.16.11\\nMathematics\\nmatlab_R2016b\\nMusic\\nmxnet\\nnode_modules\\nNVIDIA_CUDA-8.0_Samples\\nPictures\\nprotobuf\\nPublic\\nQt5.6.0\\nR\\nRadiology\\nrpudplus.LICENSE\\nTemplates\\ntensorflow\\ntensors\\nUdacity\\nVideos\\n')"
      ]
     },
     "execution_count": 24,
     "metadata": {},
     "output_type": "execute_result"
    }
   ],
   "source": []
  },
  {
   "cell_type": "code",
   "execution_count": 25,
   "metadata": {},
   "outputs": [],
   "source": [
    "reg = Registration()\n",
    "reg.inputs.fixed_image = MyFileURLs[\"T1c\"]\n",
    "reg.inputs.moving_image = MyFileURLs[\"FLAIR\"]\n",
    "reg.inputs.output_transform_prefix = 'thisTransform'\n",
    "reg.inputs.output_warped_image = 'INTERNAL_WARPED.nii.gz'\n",
    "reg.inputs.output_transform_prefix = \"output_\"\n",
    "reg.inputs.transforms = ['Translation', 'Rigid', 'Affine', 'SyN']\n",
    "reg.inputs.transform_parameters = [(0.1,), (0.1,), (0.1,), (0.2, 3.0, 0.0)]\n",
    "reg.inputs.number_of_iterations = ([[10000, 111110, 11110]] * 3 +\n",
    "                                   [[100, 50, 30]])\n",
    "reg.inputs.dimension = 3\n",
    "reg.inputs.write_composite_transform = True\n",
    "reg.inputs.collapse_output_transforms = False\n",
    "reg.inputs.metric = ['Mattes'] * 3 + [['Mattes', 'CC']]\n",
    "reg.inputs.metric_weight = [1] * 3 + [[0.5, 0.5]]\n",
    "reg.inputs.radius_or_number_of_bins = [32] * 3 + [[32, 4]]\n",
    "reg.inputs.sampling_strategy = ['Regular'] * 3 + [[None, None]]\n",
    "reg.inputs.sampling_percentage = [0.3] * 3 + [[None, None]]\n",
    "reg.inputs.convergence_threshold = [1.e-8] * 3 + [-0.01]\n",
    "reg.inputs.convergence_window_size = [20] * 3 + [5]\n",
    "reg.inputs.smoothing_sigmas = [[4, 2, 1]] * 3 + [[1, 0.5, 0]]\n",
    "reg.inputs.sigma_units = ['vox'] * 4\n",
    "reg.inputs.shrink_factors = [[6, 4, 2]] + [[3, 2, 1]] * 2 + [[4, 2, 1]]\n",
    "reg.inputs.use_estimate_learning_rate_once = [True] * 4\n",
    "reg.inputs.use_histogram_matching = [False] * 3 + [True]\n",
    "reg.inputs.initial_moving_transform_com = True\n"
   ]
  },
  {
   "cell_type": "code",
   "execution_count": 26,
   "metadata": {},
   "outputs": [
    {
     "data": {
      "text/plain": [
       "CompletedProcess(args='antsRegistration --collapse-output-transforms 0 --dimensionality 3 --initial-moving-transform [ /home/seonwhee/Deep_Learning/Datasets/BRATS2015_Training/HGG/brats_2013_pat0010_1/VSD.Brain.XX.O.MR_T1c.54568/VSD.Brain.XX.O.MR_T1c.54568.mha, /home/seonwhee/Deep_Learning/Datasets/BRATS2015_Training/HGG/brats_2013_pat0010_1/VSD.Brain.XX.O.MR_Flair.54566/VSD.Brain.XX.O.MR_Flair.54566.mha, 1 ] --initialize-transforms-per-stage 0 --interpolation Linear --output [ output_, INTERNAL_WARPED.nii.gz ] --transform Translation[ 0.1 ] --metric Mattes[ /home/seonwhee/Deep_Learning/Datasets/BRATS2015_Training/HGG/brats_2013_pat0010_1/VSD.Brain.XX.O.MR_T1c.54568/VSD.Brain.XX.O.MR_T1c.54568.mha, /home/seonwhee/Deep_Learning/Datasets/BRATS2015_Training/HGG/brats_2013_pat0010_1/VSD.Brain.XX.O.MR_Flair.54566/VSD.Brain.XX.O.MR_Flair.54566.mha, 1, 32, Regular, 0.3 ] --convergence [ 10000x111110x11110, 1e-08, 20 ] --smoothing-sigmas 4.0x2.0x1.0vox --shrink-factors 6x4x2 --use-estimate-learning-rate-once 1 --use-histogram-matching 0 --transform Rigid[ 0.1 ] --metric Mattes[ /home/seonwhee/Deep_Learning/Datasets/BRATS2015_Training/HGG/brats_2013_pat0010_1/VSD.Brain.XX.O.MR_T1c.54568/VSD.Brain.XX.O.MR_T1c.54568.mha, /home/seonwhee/Deep_Learning/Datasets/BRATS2015_Training/HGG/brats_2013_pat0010_1/VSD.Brain.XX.O.MR_Flair.54566/VSD.Brain.XX.O.MR_Flair.54566.mha, 1, 32, Regular, 0.3 ] --convergence [ 10000x111110x11110, 1e-08, 20 ] --smoothing-sigmas 4.0x2.0x1.0vox --shrink-factors 3x2x1 --use-estimate-learning-rate-once 1 --use-histogram-matching 0 --transform Affine[ 0.1 ] --metric Mattes[ /home/seonwhee/Deep_Learning/Datasets/BRATS2015_Training/HGG/brats_2013_pat0010_1/VSD.Brain.XX.O.MR_T1c.54568/VSD.Brain.XX.O.MR_T1c.54568.mha, /home/seonwhee/Deep_Learning/Datasets/BRATS2015_Training/HGG/brats_2013_pat0010_1/VSD.Brain.XX.O.MR_Flair.54566/VSD.Brain.XX.O.MR_Flair.54566.mha, 1, 32, Regular, 0.3 ] --convergence [ 10000x111110x11110, 1e-08, 20 ] --smoothing-sigmas 4.0x2.0x1.0vox --shrink-factors 3x2x1 --use-estimate-learning-rate-once 1 --use-histogram-matching 0 --transform SyN[ 0.2, 3.0, 0.0 ] --metric Mattes[ /home/seonwhee/Deep_Learning/Datasets/BRATS2015_Training/HGG/brats_2013_pat0010_1/VSD.Brain.XX.O.MR_T1c.54568/VSD.Brain.XX.O.MR_T1c.54568.mha, /home/seonwhee/Deep_Learning/Datasets/BRATS2015_Training/HGG/brats_2013_pat0010_1/VSD.Brain.XX.O.MR_Flair.54566/VSD.Brain.XX.O.MR_Flair.54566.mha, 0.5, 32 ] --metric CC[ /home/seonwhee/Deep_Learning/Datasets/BRATS2015_Training/HGG/brats_2013_pat0010_1/VSD.Brain.XX.O.MR_T1c.54568/VSD.Brain.XX.O.MR_T1c.54568.mha, /home/seonwhee/Deep_Learning/Datasets/BRATS2015_Training/HGG/brats_2013_pat0010_1/VSD.Brain.XX.O.MR_Flair.54566/VSD.Brain.XX.O.MR_Flair.54566.mha, 0.5, 4 ] --convergence [ 100x50x30, -0.01, 5 ] --smoothing-sigmas 1.0x0.5x0.0vox --shrink-factors 4x2x1 --use-estimate-learning-rate-once 1 --use-histogram-matching 1 --winsorize-image-intensities [ 0.0, 1.0 ]  --write-composite-transform 1', returncode=127, stdout=b'')"
      ]
     },
     "execution_count": 26,
     "metadata": {},
     "output_type": "execute_result"
    }
   ],
   "source": [
    "sp.run(reg.cmdline, shell=True, stdout=sp.PIPE)"
   ]
  },
  {
   "cell_type": "code",
   "execution_count": null,
   "metadata": {},
   "outputs": [],
   "source": [
    "reg.run()"
   ]
  },
  {
   "cell_type": "markdown",
   "metadata": {},
   "source": [
    "## Visualization"
   ]
  },
  {
   "cell_type": "code",
   "execution_count": 10,
   "metadata": {
    "collapsed": true
   },
   "outputs": [],
   "source": [
    "from ipywidgets import interact, FloatSlider\n",
    "from myshow import myshow, myshow3d\n",
    "from image_detector import sitk_show, sitk_tile_vec, read_image_into_ndArray"
   ]
  },
  {
   "cell_type": "code",
   "execution_count": 11,
   "metadata": {},
   "outputs": [
    {
     "data": {
      "image/png": "[encoded data removed]",
      "text/plain": [
       "<matplotlib.figure.Figure at 0x7f968e932358>"
      ]
     },
     "metadata": {},
     "output_type": "display_data"
    }
   ],
   "source": [
    "sitk_tile_vec([sitk.LabelOverlay(imgT1SmoothInt[:,:,idxSlice], imgGrayMatterT1[:,:,idxSlice]),\n",
    "               sitk.LabelOverlay(imgT2SmoothInt[:,:,idxSlice], imgGrayMatterT2[:,:,idxSlice])])"
   ]
  },
  {
   "cell_type": "code",
   "execution_count": 14,
   "metadata": {},
   "outputs": [
    {
     "data": {
      "application/vnd.jupyter.widget-view+json": {
       "model_id": "d85a4a01195449f38c3a0d889fdf2589",
       "version_major": 2,
       "version_minor": 0
      },
      "text/plain": [
       "A Jupyter Widget"
      ]
     },
     "metadata": {},
     "output_type": "display_data"
    },
    {
     "data": {
      "application/vnd.jupyter.widget-view+json": {
       "model_id": "c1fd00ae982a480ea278ba48ac1441f4",
       "version_major": 2,
       "version_minor": 0
      },
      "text/plain": [
       "A Jupyter Widget"
      ]
     },
     "metadata": {},
     "output_type": "display_data"
    }
   ],
   "source": [
    "myshow3d(imgComp)\n",
    "myshow3d(imgGrayMatterComp)"
   ]
  },
  {
   "cell_type": "code",
   "execution_count": 15,
   "metadata": {},
   "outputs": [
    {
     "data": {
      "image/png": "[encoded data removed]",
      "text/plain": [
       "<matplotlib.figure.Figure at 0x7f968e53ea58>"
      ]
     },
     "metadata": {},
     "output_type": "display_data"
    }
   ],
   "source": [
    "sitk_show(sitk.LabelOverlay(imgT2SmoothInt[:,:,idxSlice], imgGrayMatterComp[:,:,idxSlice]))"
   ]
  },
  {
   "cell_type": "markdown",
   "metadata": {},
   "source": [
    "## Save 3D image Files"
   ]
  },
  {
   "cell_type": "code",
   "execution_count": null,
   "metadata": {
    "collapsed": true
   },
   "outputs": [],
   "source": [
    "sitk.WriteImage(imgGrayMatterComp, \"./GrayMatter.mha\")"
   ]
  },
  {
   "cell_type": "code",
   "execution_count": null,
   "metadata": {
    "collapsed": true
   },
   "outputs": [],
   "source": [
    "def get_image_info(imgObject):\n",
    "    imgDict = {}\n",
    "    imgDict[\"Dimension\"] = imgObject.GetDimension()\n",
    "    imgDict[\"Size\"] = imgObject.GetSize()\n",
    "    imgDict[\"Num_Pixels\"] = imgObject.GetNumberOfPixels()\n",
    "    return imgDict"
   ]
  },
  {
   "cell_type": "code",
   "execution_count": null,
   "metadata": {
    "collapsed": true
   },
   "outputs": [],
   "source": [
    "haha = get_image_info(imgComp)\n",
    "print(haha)"
   ]
  }
 ],
 "metadata": {
  "anaconda-cloud": {},
  "kernelspec": {
   "display_name": "Python [default]",
   "language": "python",
   "name": "python3"
  },
  "language_info": {
   "codemirror_mode": {
    "name": "ipython",
    "version": 3
   },
   "file_extension": ".py",
   "mimetype": "text/x-python",
   "name": "python",
   "nbconvert_exporter": "python",
   "pygments_lexer": "ipython3",
   "version": "3.5.4"
  }
 },
 "nbformat": 4,
 "nbformat_minor": 2
}
